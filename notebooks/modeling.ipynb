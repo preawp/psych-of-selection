{
 "cells": [
  {
   "cell_type": "code",
   "execution_count": 18,
   "metadata": {},
   "outputs": [
    {
     "data": {
      "text/html": [
       "<div>\n",
       "<style scoped>\n",
       "    .dataframe tbody tr th:only-of-type {\n",
       "        vertical-align: middle;\n",
       "    }\n",
       "\n",
       "    .dataframe tbody tr th {\n",
       "        vertical-align: top;\n",
       "    }\n",
       "\n",
       "    .dataframe thead th {\n",
       "        text-align: right;\n",
       "    }\n",
       "</style>\n",
       "<table border=\"1\" class=\"dataframe\">\n",
       "  <thead>\n",
       "    <tr style=\"text-align: right;\">\n",
       "      <th></th>\n",
       "      <th>participant_id</th>\n",
       "      <th>partner_id</th>\n",
       "      <th>gender</th>\n",
       "      <th>age</th>\n",
       "      <th>partner_age</th>\n",
       "      <th>partner_race</th>\n",
       "      <th>self_attractiveness</th>\n",
       "      <th>self_sincerity</th>\n",
       "      <th>self_intelligence</th>\n",
       "      <th>self_fun</th>\n",
       "      <th>self_ambition</th>\n",
       "      <th>partner_attractiveness</th>\n",
       "      <th>partner_sincerity</th>\n",
       "      <th>partner_intelligence</th>\n",
       "      <th>partner_fun</th>\n",
       "      <th>partner_ambition</th>\n",
       "      <th>expected_matches</th>\n",
       "      <th>decision_self</th>\n",
       "      <th>decision_partner</th>\n",
       "      <th>match</th>\n",
       "    </tr>\n",
       "  </thead>\n",
       "  <tbody>\n",
       "    <tr>\n",
       "      <th>0</th>\n",
       "      <td>1</td>\n",
       "      <td>11.0</td>\n",
       "      <td>0</td>\n",
       "      <td>21.0</td>\n",
       "      <td>27.0</td>\n",
       "      <td>2.0</td>\n",
       "      <td>15.0</td>\n",
       "      <td>20.0</td>\n",
       "      <td>20.0</td>\n",
       "      <td>15.0</td>\n",
       "      <td>15.0</td>\n",
       "      <td>6.0</td>\n",
       "      <td>8.0</td>\n",
       "      <td>8.0</td>\n",
       "      <td>8.0</td>\n",
       "      <td>8.0</td>\n",
       "      <td>2.0</td>\n",
       "      <td>1</td>\n",
       "      <td>0</td>\n",
       "      <td>0</td>\n",
       "    </tr>\n",
       "    <tr>\n",
       "      <th>1</th>\n",
       "      <td>1</td>\n",
       "      <td>12.0</td>\n",
       "      <td>0</td>\n",
       "      <td>21.0</td>\n",
       "      <td>22.0</td>\n",
       "      <td>2.0</td>\n",
       "      <td>15.0</td>\n",
       "      <td>20.0</td>\n",
       "      <td>20.0</td>\n",
       "      <td>15.0</td>\n",
       "      <td>15.0</td>\n",
       "      <td>7.0</td>\n",
       "      <td>8.0</td>\n",
       "      <td>10.0</td>\n",
       "      <td>7.0</td>\n",
       "      <td>7.0</td>\n",
       "      <td>2.0</td>\n",
       "      <td>1</td>\n",
       "      <td>0</td>\n",
       "      <td>0</td>\n",
       "    </tr>\n",
       "    <tr>\n",
       "      <th>2</th>\n",
       "      <td>1</td>\n",
       "      <td>13.0</td>\n",
       "      <td>0</td>\n",
       "      <td>21.0</td>\n",
       "      <td>22.0</td>\n",
       "      <td>4.0</td>\n",
       "      <td>15.0</td>\n",
       "      <td>20.0</td>\n",
       "      <td>20.0</td>\n",
       "      <td>15.0</td>\n",
       "      <td>15.0</td>\n",
       "      <td>10.0</td>\n",
       "      <td>10.0</td>\n",
       "      <td>10.0</td>\n",
       "      <td>10.0</td>\n",
       "      <td>10.0</td>\n",
       "      <td>2.0</td>\n",
       "      <td>1</td>\n",
       "      <td>1</td>\n",
       "      <td>1</td>\n",
       "    </tr>\n",
       "    <tr>\n",
       "      <th>3</th>\n",
       "      <td>1</td>\n",
       "      <td>14.0</td>\n",
       "      <td>0</td>\n",
       "      <td>21.0</td>\n",
       "      <td>23.0</td>\n",
       "      <td>2.0</td>\n",
       "      <td>15.0</td>\n",
       "      <td>20.0</td>\n",
       "      <td>20.0</td>\n",
       "      <td>15.0</td>\n",
       "      <td>15.0</td>\n",
       "      <td>7.0</td>\n",
       "      <td>8.0</td>\n",
       "      <td>9.0</td>\n",
       "      <td>8.0</td>\n",
       "      <td>9.0</td>\n",
       "      <td>2.0</td>\n",
       "      <td>1</td>\n",
       "      <td>1</td>\n",
       "      <td>1</td>\n",
       "    </tr>\n",
       "    <tr>\n",
       "      <th>4</th>\n",
       "      <td>1</td>\n",
       "      <td>15.0</td>\n",
       "      <td>0</td>\n",
       "      <td>21.0</td>\n",
       "      <td>24.0</td>\n",
       "      <td>3.0</td>\n",
       "      <td>15.0</td>\n",
       "      <td>20.0</td>\n",
       "      <td>20.0</td>\n",
       "      <td>15.0</td>\n",
       "      <td>15.0</td>\n",
       "      <td>8.0</td>\n",
       "      <td>7.0</td>\n",
       "      <td>9.0</td>\n",
       "      <td>6.0</td>\n",
       "      <td>9.0</td>\n",
       "      <td>2.0</td>\n",
       "      <td>1</td>\n",
       "      <td>1</td>\n",
       "      <td>1</td>\n",
       "    </tr>\n",
       "  </tbody>\n",
       "</table>\n",
       "</div>"
      ],
      "text/plain": [
       "   participant_id  partner_id  gender   age  partner_age  partner_race  \\\n",
       "0               1        11.0       0  21.0         27.0           2.0   \n",
       "1               1        12.0       0  21.0         22.0           2.0   \n",
       "2               1        13.0       0  21.0         22.0           4.0   \n",
       "3               1        14.0       0  21.0         23.0           2.0   \n",
       "4               1        15.0       0  21.0         24.0           3.0   \n",
       "\n",
       "   self_attractiveness  self_sincerity  self_intelligence  self_fun  \\\n",
       "0                 15.0            20.0               20.0      15.0   \n",
       "1                 15.0            20.0               20.0      15.0   \n",
       "2                 15.0            20.0               20.0      15.0   \n",
       "3                 15.0            20.0               20.0      15.0   \n",
       "4                 15.0            20.0               20.0      15.0   \n",
       "\n",
       "   self_ambition  partner_attractiveness  partner_sincerity  \\\n",
       "0           15.0                     6.0                8.0   \n",
       "1           15.0                     7.0                8.0   \n",
       "2           15.0                    10.0               10.0   \n",
       "3           15.0                     7.0                8.0   \n",
       "4           15.0                     8.0                7.0   \n",
       "\n",
       "   partner_intelligence  partner_fun  partner_ambition  expected_matches  \\\n",
       "0                   8.0          8.0               8.0               2.0   \n",
       "1                  10.0          7.0               7.0               2.0   \n",
       "2                  10.0         10.0              10.0               2.0   \n",
       "3                   9.0          8.0               9.0               2.0   \n",
       "4                   9.0          6.0               9.0               2.0   \n",
       "\n",
       "   decision_self  decision_partner  match  \n",
       "0              1                 0      0  \n",
       "1              1                 0      0  \n",
       "2              1                 1      1  \n",
       "3              1                 1      1  \n",
       "4              1                 1      1  "
      ]
     },
     "execution_count": 18,
     "metadata": {},
     "output_type": "execute_result"
    }
   ],
   "source": [
    "#This is the notebook for modeling, evaluation, accuracy testing and final prediction logic\n",
    "\n",
    "import pandas as pd\n",
    "\n",
    "# Load the cleaned dataset\n",
    "df = pd.read_csv(\"../data/cleaned_speed_dating_data.csv\")\n",
    "df.head()"
   ]
  },
  {
   "cell_type": "code",
   "execution_count": 19,
   "metadata": {},
   "outputs": [],
   "source": [
    "# Personality traits we'll use as predictors\n",
    "features = [\n",
    "    'self_attractiveness',\n",
    "    'self_sincerity',\n",
    "    'self_intelligence',\n",
    "    'self_fun',\n",
    "    'self_ambition'\n",
    "]\n",
    "\n",
    "# Target\n",
    "target = 'match'\n",
    "\n",
    "X = df[features]\n",
    "y = df[target]\n"
   ]
  },
  {
   "cell_type": "code",
   "execution_count": 20,
   "metadata": {},
   "outputs": [],
   "source": [
    "from sklearn.model_selection import train_test_split\n",
    "\n",
    "# Split into train and test\n",
    "X_train, X_test, y_train, y_test = train_test_split(\n",
    "    X, y, test_size=0.2, random_state=42\n",
    ")\n"
   ]
  },
  {
   "cell_type": "code",
   "execution_count": 21,
   "metadata": {},
   "outputs": [
    {
     "name": "stdout",
     "output_type": "stream",
     "text": [
      "Accuracy: 0.5646135265700483\n",
      "              precision    recall  f1-score   support\n",
      "\n",
      "           0       0.85      0.59      0.69      1390\n",
      "           1       0.17      0.44      0.25       266\n",
      "\n",
      "    accuracy                           0.56      1656\n",
      "   macro avg       0.51      0.52      0.47      1656\n",
      "weighted avg       0.74      0.56      0.62      1656\n",
      "\n"
     ]
    }
   ],
   "source": [
    "# Logistic Regression Model\n",
    "# Goal: Predict whether a participant gets a match based on self-rated personality traits.\n",
    "\n",
    "# We use self_attractiveness, self_fun, self_ambition, self_sincerity, and self_intelligence as features.\n",
    "# Class imbalance is handled using 'class_weight=balanced' since most participants did not get a match.\n",
    "\n",
    "from sklearn.linear_model import LogisticRegression\n",
    "from sklearn.metrics import classification_report, accuracy_score\n",
    "\n",
    "# Train, predict, and evaluate the logistic regression model\n",
    "model = LogisticRegression(max_iter=1000, class_weight='balanced')\n",
    "model.fit(X_train, y_train)\n",
    "y_pred = model.predict(X_test)\n",
    "\n",
    "# Evaluation:\n",
    "# The model shows moderate accuracy but struggles with recall and precision for actual matches (label 1).\n",
    "# This suggests a linear model might not capture the complexity of match behavior in this dataset.\n",
    "print(\"Accuracy:\", accuracy_score(y_test, y_pred))\n",
    "print(classification_report(y_test, y_pred))\n",
    "\n"
   ]
  },
  {
   "cell_type": "code",
   "execution_count": 22,
   "metadata": {},
   "outputs": [
    {
     "name": "stdout",
     "output_type": "stream",
     "text": [
      "Random Forest (Balanced) Results:\n",
      "Accuracy: 0.6207729468599034\n",
      "              precision    recall  f1-score   support\n",
      "\n",
      "           0       0.88      0.64      0.74      1390\n",
      "           1       0.22      0.55      0.32       266\n",
      "\n",
      "    accuracy                           0.62      1656\n",
      "   macro avg       0.55      0.59      0.53      1656\n",
      "weighted avg       0.77      0.62      0.67      1656\n",
      "\n"
     ]
    }
   ],
   "source": [
    "# Random Forest Model\n",
    "# Goal: Predict whether a participant gets a match based on self-rated personality traits.\n",
    "\n",
    "# We use self_attractiveness, self_fun, self_ambition, self_sincerity, and self_intelligence as features.\n",
    "# Class imbalance is handled using 'class_weight=balanced' since matches (label 1) are relatively rare.\n",
    "\n",
    "# Train, predict, and evaluate the random forest model\n",
    "from sklearn.ensemble import RandomForestClassifier\n",
    "from sklearn.metrics import classification_report, accuracy_score\n",
    "\n",
    "model = RandomForestClassifier(class_weight='balanced', random_state=42)\n",
    "model.fit(X_train, y_train)\n",
    "y_pred = model.predict(X_test)\n",
    "\n",
    "# Evaluation:\n",
    "# The model performs better at identifying matches compared to logistic regression,\n",
    "# with improved recall for label 1 (match), though still not ideal. Non-linear models seem more promising.\n",
    "print(\"Random Forest (Balanced) Results:\")\n",
    "print(\"Accuracy:\", accuracy_score(y_test, y_pred))\n",
    "print(classification_report(y_test, y_pred))\n"
   ]
  },
  {
   "cell_type": "code",
   "execution_count": 23,
   "metadata": {},
   "outputs": [
    {
     "data": {
      "image/png": "[encoded data removed]",
      "text/plain": [
       "<Figure size 1000x600 with 1 Axes>"
      ]
     },
     "metadata": {},
     "output_type": "display_data"
    }
   ],
   "source": [
    "#Visualizing Feature Importance (Random Forest)\n",
    "\n",
    "import matplotlib.pyplot as plt\n",
    "\n",
    "# Get feature importances\n",
    "importances = model.feature_importances_\n",
    "feature_names = X.columns\n",
    "\n",
    "# Sort by importance\n",
    "indices = importances.argsort()[::-1]\n",
    "\n",
    "# Plot\n",
    "plt.figure(figsize=(10, 6))\n",
    "plt.title(\"Feature Importances (Random Forest)\")\n",
    "plt.bar(range(X.shape[1]), importances[indices], align=\"center\")\n",
    "plt.xticks(range(X.shape[1]), feature_names[indices], rotation=45)\n",
    "plt.tight_layout()\n",
    "plt.show()\n"
   ]
  },
  {
   "cell_type": "code",
   "execution_count": 24,
   "metadata": {},
   "outputs": [
    {
     "data": {
      "image/png": "[encoded data removed]",
      "text/plain": [
       "<Figure size 640x480 with 2 Axes>"
      ]
     },
     "metadata": {},
     "output_type": "display_data"
    }
   ],
   "source": [
    "# Confusion Matrix for Random Forest (Balanced)\n",
    "# This plot shows the number of correct and incorrect predictions made by the model.\n",
    "# It reveals that while the model is good at predicting \"no match\" (class 0),\n",
    "# it has also improved in identifying actual matches (class 1) after using class_weight='balanced'.\n",
    "\n",
    "from sklearn.metrics import confusion_matrix, ConfusionMatrixDisplay\n",
    "\n",
    "cm = confusion_matrix(y_test, y_pred)\n",
    "disp = ConfusionMatrixDisplay(confusion_matrix=cm, display_labels=model.classes_)\n",
    "disp.plot(cmap=\"Blues\")\n",
    "plt.title(\"Confusion Matrix - Random Forest\")\n",
    "plt.show()\n"
   ]
  },
  {
   "cell_type": "code",
   "execution_count": 25,
   "metadata": {},
   "outputs": [
    {
     "name": "stdout",
     "output_type": "stream",
     "text": [
      "Tuned Random Forest Results:\n",
      "Accuracy: 0.6316425120772947\n",
      "              precision    recall  f1-score   support\n",
      "\n",
      "           0       0.87      0.66      0.75      1390\n",
      "           1       0.21      0.47      0.29       266\n",
      "\n",
      "    accuracy                           0.63      1656\n",
      "   macro avg       0.54      0.57      0.52      1656\n",
      "weighted avg       0.76      0.63      0.68      1656\n",
      "\n"
     ]
    }
   ],
   "source": [
    "from sklearn.ensemble import RandomForestClassifier\n",
    "from sklearn.metrics import classification_report, accuracy_score\n",
    "\n",
    "# Try a tuned version\n",
    "tuned_rf = RandomForestClassifier(\n",
    "    n_estimators=100,       # tried 200 but this is better\n",
    "    max_depth=6,            \n",
    "    min_samples_split=5,    \n",
    "    class_weight='balanced',\n",
    "    random_state=42\n",
    ")\n",
    "\n",
    "tuned_rf.fit(X_train, y_train)\n",
    "y_pred = tuned_rf.predict(X_test)\n",
    "\n",
    "print(\"Tuned Random Forest Results:\")\n",
    "print(\"Accuracy:\", accuracy_score(y_test, y_pred))\n",
    "print(classification_report(y_test, y_pred))\n"
   ]
  },
  {
   "cell_type": "code",
   "execution_count": 33,
   "metadata": {},
   "outputs": [
    {
     "name": "stdout",
     "output_type": "stream",
     "text": [
      "Requirement already satisfied: xgboost in /Users/pimpisutputtipongkawin/psych-of-selection/venv/lib/python3.12/site-packages (3.0.0)\n",
      "Requirement already satisfied: numpy in /Users/pimpisutputtipongkawin/psych-of-selection/venv/lib/python3.12/site-packages (from xgboost) (2.2.3)\n",
      "Requirement already satisfied: scipy in /Users/pimpisutputtipongkawin/psych-of-selection/venv/lib/python3.12/site-packages (from xgboost) (1.15.2)\n",
      "\n",
      "\u001b[1m[\u001b[0m\u001b[34;49mnotice\u001b[0m\u001b[1;39;49m]\u001b[0m\u001b[39;49m A new release of pip is available: \u001b[0m\u001b[31;49m23.2.1\u001b[0m\u001b[39;49m -> \u001b[0m\u001b[32;49m25.0.1\u001b[0m\n",
      "\u001b[1m[\u001b[0m\u001b[34;49mnotice\u001b[0m\u001b[1;39;49m]\u001b[0m\u001b[39;49m To update, run: \u001b[0m\u001b[32;49mpip install --upgrade pip\u001b[0m\n",
      "Note: you may need to restart the kernel to use updated packages.\n"
     ]
    }
   ],
   "source": [
    "%pip install xgboost\n"
   ]
  },
  {
   "cell_type": "code",
   "execution_count": 35,
   "metadata": {},
   "outputs": [
    {
     "name": "stderr",
     "output_type": "stream",
     "text": [
      "/Users/pimpisutputtipongkawin/psych-of-selection/venv/lib/python3.12/site-packages/xgboost/training.py:183: UserWarning: [01:03:43] WARNING: /Users/runner/work/xgboost/xgboost/src/learner.cc:738: \n",
      "Parameters: { \"use_label_encoder\" } are not used.\n",
      "\n",
      "  bst.update(dtrain, iteration=i, fobj=obj)\n"
     ]
    },
    {
     "name": "stdout",
     "output_type": "stream",
     "text": [
      "XGBoost Classifier Results:\n",
      "Accuracy: 0.8327294685990339\n",
      "              precision    recall  f1-score   support\n",
      "\n",
      "           0       0.85      0.98      0.91      1390\n",
      "           1       0.39      0.07      0.12       266\n",
      "\n",
      "    accuracy                           0.83      1656\n",
      "   macro avg       0.62      0.52      0.51      1656\n",
      "weighted avg       0.77      0.83      0.78      1656\n",
      "\n"
     ]
    },
    {
     "data": {
      "image/png": "[encoded data removed]",
      "text/plain": [
       "<Figure size 600x400 with 2 Axes>"
      ]
     },
     "metadata": {},
     "output_type": "display_data"
    }
   ],
   "source": [
    "from xgboost import XGBClassifier\n",
    "from sklearn.metrics import classification_report, accuracy_score, confusion_matrix\n",
    "import seaborn as sns\n",
    "import matplotlib.pyplot as plt\n",
    "\n",
    "# Train XGBoost\n",
    "xgb = XGBClassifier(use_label_encoder=False, eval_metric='logloss', random_state=42)\n",
    "xgb.fit(X_train, y_train)\n",
    "\n",
    "# Predict\n",
    "y_pred = xgb.predict(X_test)\n",
    "\n",
    "# Evaluate\n",
    "print(\"XGBoost Classifier Results:\")\n",
    "print(\"Accuracy:\", accuracy_score(y_test, y_pred))\n",
    "print(classification_report(y_test, y_pred))\n",
    "\n",
    "# Confusion Matrix\n",
    "cm = confusion_matrix(y_test, y_pred)\n",
    "plt.figure(figsize=(6,4))\n",
    "sns.heatmap(cm, annot=True, fmt='d', cmap='Purples', xticklabels=['No Match', 'Match'], yticklabels=['No Match', 'Match'])\n",
    "plt.title(\"Confusion Matrix - XGBoost\")\n",
    "plt.xlabel(\"Predicted\")\n",
    "plt.ylabel(\"Actual\")\n",
    "plt.tight_layout()\n",
    "plt.show()\n",
    "\n"
   ]
  }
 ],
 "metadata": {
  "kernelspec": {
   "display_name": ".venv",
   "language": "python",
   "name": "python3"
  },
  "language_info": {
   "codemirror_mode": {
    "name": "ipython",
    "version": 3
   },
   "file_extension": ".py",
   "mimetype": "text/x-python",
   "name": "python",
   "nbconvert_exporter": "python",
   "pygments_lexer": "ipython3",
   "version": "3.12.0"
  }
 },
 "nbformat": 4,
 "nbformat_minor": 2
}
